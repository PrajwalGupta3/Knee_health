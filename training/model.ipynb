{
 "cells": [
  {
   "cell_type": "code",
   "execution_count": 1,
   "id": "e65b5c43",
   "metadata": {},
   "outputs": [],
   "source": [
    "import pandas as pd\n",
    "from sklearn.preprocessing import LabelEncoder\n",
    "from sklearn.metrics import accuracy_score\n",
    "\n",
    "# Load training and testing datasets\n",
    "train_df = pd.read_csv(\"dataset.txt\")\n",
    "test_df = pd.read_csv(\"test.txt\")\n",
    "\n",
    "# Combine for consistent label encoding\n",
    "combined = pd.concat([train_df, test_df])\n",
    "\n",
    "# Encode categorical columns\n",
    "for col in [\"Age Group\", \"Gender\", \"Target Class\"]:\n",
    "    le = LabelEncoder()\n",
    "    combined[col] = le.fit_transform(combined[col])\n",
    "\n",
    "# Split them back after encoding\n",
    "train_df = combined.iloc[:len(train_df)]\n",
    "test_df = combined.iloc[len(train_df):]\n",
    "\n",
    "# Separate features and targets\n",
    "X_train = train_df.drop(columns=[\"ID\", \"Target Class\"])\n",
    "y_train = train_df[\"Target Class\"]\n",
    "\n",
    "X_test = test_df.drop(columns=[\"ID\", \"Target Class\"])\n",
    "y_test = test_df[\"Target Class\"]\n"
   ]
  },
  {
   "cell_type": "code",
   "execution_count": 2,
   "id": "908e11d5",
   "metadata": {},
   "outputs": [
    {
     "name": "stdout",
     "output_type": "stream",
     "text": [
      "Accuracy: 1.00\n"
     ]
    }
   ],
   "source": [
    "\n",
    "from sklearn.ensemble import RandomForestClassifier\n",
    "\n",
    "\n",
    "model = RandomForestClassifier()\n",
    "model.fit(X_train, y_train)\n",
    "y_pred = model.predict(X_test)\n",
    "accuracy = accuracy_score(y_test, y_pred)\n",
    "print(f\"Accuracy: {accuracy:.2f}\")"
   ]
  },
  {
   "cell_type": "code",
   "execution_count": 3,
   "id": "58581a4d",
   "metadata": {},
   "outputs": [
    {
     "data": {
      "text/plain": [
       "['knee_classifier.pkl']"
      ]
     },
     "execution_count": 3,
     "metadata": {},
     "output_type": "execute_result"
    }
   ],
   "source": [
    "import joblib\n",
    "joblib.dump(model, \"knee_classifier.pkl\")\n"
   ]
  },
  {
   "cell_type": "code",
   "execution_count": 4,
   "id": "4722903f",
   "metadata": {},
   "outputs": [
    {
     "name": "stdout",
     "output_type": "stream",
     "text": [
      "Prediction: Potentially Unhealthy Knee\n",
      "Possible Conditions:\n",
      "- Possible inflammation or infection due to elevated body temperature.\n",
      "- Possible Meniscus Tear from abnormal rotation.\n"
     ]
    },
    {
     "name": "stderr",
     "output_type": "stream",
     "text": [
      "C:\\Users\\prajw\\AppData\\Roaming\\Python\\Python313\\site-packages\\sklearn\\utils\\validation.py:2739: UserWarning: X does not have valid feature names, but RandomForestClassifier was fitted with feature names\n",
      "  warnings.warn(\n"
     ]
    }
   ],
   "source": [
    "import joblib\n",
    "import numpy as np\n",
    "\n",
    "# Load model\n",
    "model = joblib.load(\"knee_classifier.pkl\")\n",
    "\n",
    "# Encodings\n",
    "age_map = {'Young': 0, 'Young Adult': 1, 'Adult': 2, 'Older Adult': 3, 'Senior': 4}\n",
    "gender_map = {'Male': 1, 'Female': 0, 'Non-binary': 2}\n",
    "\n",
    "# Example input\n",
    "input_data = {\n",
    "    \"Age Group\": \"Adult\",\n",
    "    \"Height (cm)\": 176,\n",
    "    \"Weight (kg)\": 75,\n",
    "    \"Gender\": \"Male\",\n",
    "    \"Temperature (°C)\": 38.3,\n",
    "    \"Pressure (N)\": 720,\n",
    "    \"Gyro X (rad/s)\": 0.6,\n",
    "    \"Gyro Y (rad/s)\": 0.4,\n",
    "    \"Gyro Z (rad/s)\": 0.3,\n",
    "    \"Accel X (m/s²)\": 1.3,\n",
    "    \"Accel Y (m/s²)\": 1.0,\n",
    "    \"Accel Z (m/s²)\": 9.5\n",
    "}\n",
    "\n",
    "# Preprocessing\n",
    "input_vector = np.array([[ \n",
    "    age_map[input_data[\"Age Group\"]],\n",
    "    input_data[\"Height (cm)\"],\n",
    "    input_data[\"Weight (kg)\"],\n",
    "    gender_map[input_data[\"Gender\"]],\n",
    "    input_data[\"Temperature (°C)\"],\n",
    "    input_data[\"Pressure (N)\"],\n",
    "    input_data[\"Gyro X (rad/s)\"],\n",
    "    input_data[\"Gyro Y (rad/s)\"],\n",
    "    input_data[\"Gyro Z (rad/s)\"],\n",
    "    input_data[\"Accel X (m/s²)\"],\n",
    "    input_data[\"Accel Y (m/s²)\"],\n",
    "    input_data[\"Accel Z (m/s²)\"]\n",
    "]])\n",
    "\n",
    "# Predict\n",
    "prediction = model.predict(input_vector)\n",
    "result = \"Healthy Knee\" if prediction[0] == 0 else \"Potentially Unhealthy Knee\"\n",
    "print(\"Prediction:\", result)\n",
    "\n",
    "# Medical reasoning\n",
    "def diagnose_knee(data):\n",
    "    reasons = []\n",
    "    if data[\"Age Group\"] in [\"Older Adult\", \"Senior\"] and data[\"Pressure (N)\"] > 700:\n",
    "        reasons.append(\"Possible Osteoarthritis due to age and high joint pressure.\")\n",
    "    if data[\"Temperature (°C)\"] > 37.5:\n",
    "        reasons.append(\"Possible inflammation or infection due to elevated body temperature.\")\n",
    "    if abs(data[\"Gyro X (rad/s)\"]) > 0.5 or abs(data[\"Gyro Y (rad/s)\"]) > 0.5:\n",
    "        reasons.append(\"Possible Meniscus Tear from abnormal rotation.\")\n",
    "    if abs(data[\"Accel Z (m/s²)\"] - 9.8) > 1.5:\n",
    "        reasons.append(\"Possible Ligament Strain due to unusual vertical impact.\")\n",
    "    return reasons\n",
    "\n",
    "# Show possible conditions\n",
    "if result == \"Potentially Unhealthy Knee\":\n",
    "    diagnosis = diagnose_knee(input_data)\n",
    "    print(\"Possible Conditions:\")\n",
    "    for issue in diagnosis:\n",
    "        print(\"-\", issue)\n"
   ]
  }
 ],
 "metadata": {
  "kernelspec": {
   "display_name": "Python 3",
   "language": "python",
   "name": "python3"
  },
  "language_info": {
   "codemirror_mode": {
    "name": "ipython",
    "version": 3
   },
   "file_extension": ".py",
   "mimetype": "text/x-python",
   "name": "python",
   "nbconvert_exporter": "python",
   "pygments_lexer": "ipython3",
   "version": "3.13.2"
  }
 },
 "nbformat": 4,
 "nbformat_minor": 5
}
